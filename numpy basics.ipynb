{
 "cells": [
  {
   "cell_type": "code",
   "execution_count": 1,
   "id": "f01bb286-c896-4413-8f9e-1d2f58351414",
   "metadata": {},
   "outputs": [],
   "source": [
    "mylist= [1,2,3]"
   ]
  },
  {
   "cell_type": "code",
   "execution_count": 5,
   "id": "3079ada1-e52e-483e-a55c-7afa0ca68f68",
   "metadata": {},
   "outputs": [],
   "source": [
    "import numpy as np"
   ]
  },
  {
   "cell_type": "code",
   "execution_count": 3,
   "id": "569a9ab4-07da-4c61-a79f-2a87f433b674",
   "metadata": {},
   "outputs": [
    {
     "data": {
      "text/plain": [
       "array([1, 2, 3])"
      ]
     },
     "execution_count": 3,
     "metadata": {},
     "output_type": "execute_result"
    }
   ],
   "source": [
    "np.array(mylist)"
   ]
  },
  {
   "cell_type": "code",
   "execution_count": 4,
   "id": "657ac3c4-5514-44dd-8a21-d9265ac70235",
   "metadata": {},
   "outputs": [],
   "source": [
    "mylist1= [[1,2,3],[4,5,6],[7,8,9]]"
   ]
  },
  {
   "cell_type": "code",
   "execution_count": 5,
   "id": "0b7e21af-98ce-41a5-90bf-bd251128e5ea",
   "metadata": {},
   "outputs": [
    {
     "data": {
      "text/plain": [
       "array([[1, 2, 3],\n",
       "       [4, 5, 6],\n",
       "       [7, 8, 9]])"
      ]
     },
     "execution_count": 5,
     "metadata": {},
     "output_type": "execute_result"
    }
   ],
   "source": [
    "#to print list of list in form of 2 dimension array\n",
    "np.array(mylist1)"
   ]
  },
  {
   "cell_type": "code",
   "execution_count": 18,
   "id": "7c549ffd-9dfe-4c8e-8939-4f58601db046",
   "metadata": {},
   "outputs": [
    {
     "data": {
      "text/plain": [
       "array([0, 1, 2, 3, 4, 5, 6, 7, 8, 9])"
      ]
     },
     "execution_count": 18,
     "metadata": {},
     "output_type": "execute_result"
    }
   ],
   "source": [
    "#arrange function to generate array \n",
    "np.arange(0,10)"
   ]
  },
  {
   "cell_type": "code",
   "execution_count": 3,
   "id": "d52f9e28-106c-4a33-9829-aca4837f2607",
   "metadata": {},
   "outputs": [
    {
     "data": {
      "text/plain": [
       "array([0, 2, 4, 6, 8])"
      ]
     },
     "execution_count": 3,
     "metadata": {},
     "output_type": "execute_result"
    }
   ],
   "source": [
    "#arrange function to generate array with jump of 2 \n",
    "np.arange(0,10,2)"
   ]
  },
  {
   "cell_type": "code",
   "execution_count": 5,
   "id": "cfb393f0-b891-4e8b-b1db-19cb7e3401a8",
   "metadata": {},
   "outputs": [
    {
     "data": {
      "text/plain": [
       "array([0., 0., 0.])"
      ]
     },
     "execution_count": 5,
     "metadata": {},
     "output_type": "execute_result"
    }
   ],
   "source": [
    "np.zeros(3)"
   ]
  },
  {
   "cell_type": "code",
   "execution_count": 6,
   "id": "c229bda1-6458-4ee4-b9f7-b6af34e6cde7",
   "metadata": {},
   "outputs": [
    {
     "data": {
      "text/plain": [
       "array([[0., 0., 0., 0.],\n",
       "       [0., 0., 0., 0.],\n",
       "       [0., 0., 0., 0.]])"
      ]
     },
     "execution_count": 6,
     "metadata": {},
     "output_type": "execute_result"
    }
   ],
   "source": [
    "#using numpy zeros function bypassing tuple as (rows,column)\n",
    "np.zeros((3,4))"
   ]
  },
  {
   "cell_type": "code",
   "execution_count": 7,
   "id": "a27ba596-a10a-45de-90f6-349e31d83386",
   "metadata": {},
   "outputs": [
    {
     "data": {
      "text/plain": [
       "array([ 0.        ,  0.52631579,  1.05263158,  1.57894737,  2.10526316,\n",
       "        2.63157895,  3.15789474,  3.68421053,  4.21052632,  4.73684211,\n",
       "        5.26315789,  5.78947368,  6.31578947,  6.84210526,  7.36842105,\n",
       "        7.89473684,  8.42105263,  8.94736842,  9.47368421, 10.        ])"
      ]
     },
     "execution_count": 7,
     "metadata": {},
     "output_type": "execute_result"
    }
   ],
   "source": [
    "#using numpy linspace function to generate evenly space vectors (start,stop,no.of vectors want)\n",
    "np.linspace(0,10,20)"
   ]
  },
  {
   "cell_type": "code",
   "execution_count": 8,
   "id": "a886370d-6afe-4309-82df-0871101db5da",
   "metadata": {},
   "outputs": [
    {
     "data": {
      "text/plain": [
       "array([[1., 0., 0., 0.],\n",
       "       [0., 1., 0., 0.],\n",
       "       [0., 0., 1., 0.],\n",
       "       [0., 0., 0., 1.]])"
      ]
     },
     "execution_count": 8,
     "metadata": {},
     "output_type": "execute_result"
    }
   ],
   "source": [
    "np.eye(4) # creating identity matrix (no. of rows = no. of columns) useful in algebra problems"
   ]
  },
  {
   "cell_type": "code",
   "execution_count": 9,
   "id": "870326a4-4a6e-4929-b866-0ae945228858",
   "metadata": {},
   "outputs": [
    {
     "data": {
      "text/plain": [
       "array([0.19556775, 0.79972175, 0.56794944, 0.78214136, 0.23466985])"
      ]
     },
     "execution_count": 9,
     "metadata": {},
     "output_type": "execute_result"
    }
   ],
   "source": [
    "# generating random no. \n",
    "np.random.rand(5)  # gives 1-D array of 5 random no. "
   ]
  },
  {
   "cell_type": "code",
   "execution_count": 11,
   "id": "03e8d4db-832f-4605-ac26-53563facd56f",
   "metadata": {},
   "outputs": [
    {
     "data": {
      "text/plain": [
       "array([[0.38117966, 0.78274685, 0.16402554, 0.82345262],\n",
       "       [0.66187471, 0.87609563, 0.63718147, 0.97982678],\n",
       "       [0.87140472, 0.01245335, 0.61501935, 0.34489372]])"
      ]
     },
     "execution_count": 11,
     "metadata": {},
     "output_type": "execute_result"
    }
   ],
   "source": [
    "# generating random no. \n",
    "np.random.rand(3,4)  # gives 2-D array of  random no. in form 3 * 4 matrix"
   ]
  },
  {
   "cell_type": "code",
   "execution_count": 12,
   "id": "e1af1b39-fcb5-4a9e-a872-b7f2f3e88f97",
   "metadata": {},
   "outputs": [
    {
     "data": {
      "text/plain": [
       "array([[ 1.76872162,  1.09465323, -0.09686189],\n",
       "       [-1.98129012,  1.09687942, -1.25301425]])"
      ]
     },
     "execution_count": 12,
     "metadata": {},
     "output_type": "execute_result"
    }
   ],
   "source": [
    "np.random.randn(2,3) # generate random no. from gaussian(normal) distribution of mean= 0 and variance= 1 "
   ]
  },
  {
   "cell_type": "code",
   "execution_count": 19,
   "id": "f3709e2e-5816-4e52-9f3d-c9387329c30f",
   "metadata": {},
   "outputs": [],
   "source": [
    "arr= np.arange(20)\n",
    "\n",
    "narr=np.random.randint(1,100,10) # generate every time 10 random integer between 1<n<100 "
   ]
  },
  {
   "cell_type": "code",
   "execution_count": 20,
   "id": "47b6bfcf-4ece-4722-a516-8fab6e617861",
   "metadata": {},
   "outputs": [
    {
     "data": {
      "text/plain": [
       "array([[ 0,  1,  2,  3,  4],\n",
       "       [ 5,  6,  7,  8,  9],\n",
       "       [10, 11, 12, 13, 14],\n",
       "       [15, 16, 17, 18, 19]])"
      ]
     },
     "execution_count": 20,
     "metadata": {},
     "output_type": "execute_result"
    }
   ],
   "source": [
    "arr.reshape(4,5)"
   ]
  },
  {
   "cell_type": "code",
   "execution_count": 21,
   "id": "106876c2-aade-4135-ab87-3f80787de36e",
   "metadata": {},
   "outputs": [
    {
     "data": {
      "text/plain": [
       "84"
      ]
     },
     "execution_count": 21,
     "metadata": {},
     "output_type": "execute_result"
    }
   ],
   "source": [
    "narr.max()"
   ]
  },
  {
   "cell_type": "code",
   "execution_count": 22,
   "id": "ea66fdab-1329-455e-930e-b3f4e6b4f6fd",
   "metadata": {},
   "outputs": [
    {
     "data": {
      "text/plain": [
       "19"
      ]
     },
     "execution_count": 22,
     "metadata": {},
     "output_type": "execute_result"
    }
   ],
   "source": [
    "narr.min()"
   ]
  },
  {
   "cell_type": "code",
   "execution_count": 23,
   "id": "f776916c-76d7-434e-aef9-b5b0a99387e1",
   "metadata": {},
   "outputs": [
    {
     "data": {
      "text/plain": [
       "8"
      ]
     },
     "execution_count": 23,
     "metadata": {},
     "output_type": "execute_result"
    }
   ],
   "source": [
    "narr.argmax()"
   ]
  },
  {
   "cell_type": "code",
   "execution_count": 24,
   "id": "81a123e8-079a-4e15-ac6e-2966a627e03e",
   "metadata": {},
   "outputs": [
    {
     "data": {
      "text/plain": [
       "array([66, 27, 19, 41, 37, 31, 49, 70, 84, 27])"
      ]
     },
     "execution_count": 24,
     "metadata": {},
     "output_type": "execute_result"
    }
   ],
   "source": [
    "narr"
   ]
  },
  {
   "cell_type": "code",
   "execution_count": 25,
   "id": "fea7c8e4-e737-4a62-b283-f171eff195a9",
   "metadata": {},
   "outputs": [
    {
     "data": {
      "text/plain": [
       "2"
      ]
     },
     "execution_count": 25,
     "metadata": {},
     "output_type": "execute_result"
    }
   ],
   "source": [
    "narr.argmin()"
   ]
  },
  {
   "cell_type": "code",
   "execution_count": 3,
   "id": "888b60dc-2d3f-4ac0-9a49-f220bff2ac69",
   "metadata": {},
   "outputs": [],
   "source": [
    "import pandas as pd"
   ]
  },
  {
   "cell_type": "code",
   "execution_count": 28,
   "id": "f8b52845-7a1c-4e24-983c-56af37fcdef2",
   "metadata": {},
   "outputs": [
    {
     "data": {
      "text/plain": [
       "a    10\n",
       "b    43\n",
       "c    52\n",
       "dtype: int64"
      ]
     },
     "execution_count": 28,
     "metadata": {},
     "output_type": "execute_result"
    }
   ],
   "source": [
    "labels=['a','b','c']\n",
    "list=[10,43,52]\n",
    "pd.Series(list,index=labels)"
   ]
  },
  {
   "cell_type": "code",
   "execution_count": 6,
   "id": "11a9d3f9-367a-4e09-a800-7b9bb4bc161c",
   "metadata": {},
   "outputs": [],
   "source": [
    "df=pd.DataFrame(np.random.randn(3,3),['r1','r2','r3'],['c1','c2','c3'])"
   ]
  },
  {
   "cell_type": "code",
   "execution_count": 8,
   "id": "f276f267-e5ba-424e-bcca-f53e1557d5bd",
   "metadata": {},
   "outputs": [
    {
     "data": {
      "text/html": [
       "<div>\n",
       "<style scoped>\n",
       "    .dataframe tbody tr th:only-of-type {\n",
       "        vertical-align: middle;\n",
       "    }\n",
       "\n",
       "    .dataframe tbody tr th {\n",
       "        vertical-align: top;\n",
       "    }\n",
       "\n",
       "    .dataframe thead th {\n",
       "        text-align: right;\n",
       "    }\n",
       "</style>\n",
       "<table border=\"1\" class=\"dataframe\">\n",
       "  <thead>\n",
       "    <tr style=\"text-align: right;\">\n",
       "      <th></th>\n",
       "      <th>c1</th>\n",
       "      <th>c2</th>\n",
       "      <th>c3</th>\n",
       "    </tr>\n",
       "  </thead>\n",
       "  <tbody>\n",
       "    <tr>\n",
       "      <th>r1</th>\n",
       "      <td>-1.327479</td>\n",
       "      <td>0.126338</td>\n",
       "      <td>0.862194</td>\n",
       "    </tr>\n",
       "    <tr>\n",
       "      <th>r2</th>\n",
       "      <td>0.696737</td>\n",
       "      <td>-0.334565</td>\n",
       "      <td>-0.997526</td>\n",
       "    </tr>\n",
       "    <tr>\n",
       "      <th>r3</th>\n",
       "      <td>1.598908</td>\n",
       "      <td>3.314075</td>\n",
       "      <td>0.987770</td>\n",
       "    </tr>\n",
       "  </tbody>\n",
       "</table>\n",
       "</div>"
      ],
      "text/plain": [
       "          c1        c2        c3\n",
       "r1 -1.327479  0.126338  0.862194\n",
       "r2  0.696737 -0.334565 -0.997526\n",
       "r3  1.598908  3.314075  0.987770"
      ]
     },
     "execution_count": 8,
     "metadata": {},
     "output_type": "execute_result"
    }
   ],
   "source": [
    "df"
   ]
  },
  {
   "cell_type": "code",
   "execution_count": 11,
   "id": "279447cb-52e3-4d9a-ab1d-a5ffd1473edc",
   "metadata": {},
   "outputs": [
    {
     "data": {
      "text/plain": [
       "r1    0.126338\n",
       "r2   -0.334565\n",
       "r3    3.314075\n",
       "Name: c2, dtype: float64"
      ]
     },
     "execution_count": 11,
     "metadata": {},
     "output_type": "execute_result"
    }
   ],
   "source": [
    "df['c2']  # grab a column name we get output as series from dataframe"
   ]
  },
  {
   "cell_type": "code",
   "execution_count": 9,
   "id": "9df452e2-cf2e-4ee2-b31f-f6cc46d30dd1",
   "metadata": {},
   "outputs": [],
   "source": [
    "import matplotlib as plt"
   ]
  },
  {
   "cell_type": "code",
   "execution_count": 10,
   "id": "0976199d-5b8f-4a4d-a690-4c777b456ccc",
   "metadata": {},
   "outputs": [
    {
     "data": {
      "text/plain": [
       "<Axes: >"
      ]
     },
     "execution_count": 10,
     "metadata": {},
     "output_type": "execute_result"
    },
    {
     "data": {
      "image/png": "[encoded data removed]",
      "text/plain": [
       "<Figure size 640x480 with 1 Axes>"
      ]
     },
     "metadata": {},
     "output_type": "display_data"
    }
   ],
   "source": [
    "df.plot()"
   ]
  },
  {
   "cell_type": "code",
   "execution_count": 12,
   "id": "22bd0750-c456-4428-8d23-c8a7b11a142a",
   "metadata": {},
   "outputs": [
    {
     "data": {
      "text/html": [
       "<div>\n",
       "<style scoped>\n",
       "    .dataframe tbody tr th:only-of-type {\n",
       "        vertical-align: middle;\n",
       "    }\n",
       "\n",
       "    .dataframe tbody tr th {\n",
       "        vertical-align: top;\n",
       "    }\n",
       "\n",
       "    .dataframe thead th {\n",
       "        text-align: right;\n",
       "    }\n",
       "</style>\n",
       "<table border=\"1\" class=\"dataframe\">\n",
       "  <thead>\n",
       "    <tr style=\"text-align: right;\">\n",
       "      <th></th>\n",
       "      <th>c1</th>\n",
       "      <th>c2</th>\n",
       "    </tr>\n",
       "  </thead>\n",
       "  <tbody>\n",
       "    <tr>\n",
       "      <th>r1</th>\n",
       "      <td>-1.327479</td>\n",
       "      <td>0.126338</td>\n",
       "    </tr>\n",
       "    <tr>\n",
       "      <th>r2</th>\n",
       "      <td>0.696737</td>\n",
       "      <td>-0.334565</td>\n",
       "    </tr>\n",
       "    <tr>\n",
       "      <th>r3</th>\n",
       "      <td>1.598908</td>\n",
       "      <td>3.314075</td>\n",
       "    </tr>\n",
       "  </tbody>\n",
       "</table>\n",
       "</div>"
      ],
      "text/plain": [
       "          c1        c2\n",
       "r1 -1.327479  0.126338\n",
       "r2  0.696737 -0.334565\n",
       "r3  1.598908  3.314075"
      ]
     },
     "execution_count": 12,
     "metadata": {},
     "output_type": "execute_result"
    }
   ],
   "source": [
    "df[['c1','c2']]"
   ]
  },
  {
   "cell_type": "code",
   "execution_count": 13,
   "id": "b627fbfe-87c8-44a5-9757-03e8be69b03a",
   "metadata": {},
   "outputs": [],
   "source": [
    "df['new']=df['c2']+df['c3'] # adding new column \"new\" to dataframe and passing a value = c2 + c3"
   ]
  },
  {
   "cell_type": "code",
   "execution_count": 14,
   "id": "a640a260-99e5-4b6f-921f-69d9a0e2abf9",
   "metadata": {},
   "outputs": [
    {
     "data": {
      "text/html": [
       "<div>\n",
       "<style scoped>\n",
       "    .dataframe tbody tr th:only-of-type {\n",
       "        vertical-align: middle;\n",
       "    }\n",
       "\n",
       "    .dataframe tbody tr th {\n",
       "        vertical-align: top;\n",
       "    }\n",
       "\n",
       "    .dataframe thead th {\n",
       "        text-align: right;\n",
       "    }\n",
       "</style>\n",
       "<table border=\"1\" class=\"dataframe\">\n",
       "  <thead>\n",
       "    <tr style=\"text-align: right;\">\n",
       "      <th></th>\n",
       "      <th>c1</th>\n",
       "      <th>c2</th>\n",
       "      <th>c3</th>\n",
       "      <th>new</th>\n",
       "    </tr>\n",
       "  </thead>\n",
       "  <tbody>\n",
       "    <tr>\n",
       "      <th>r1</th>\n",
       "      <td>-1.327479</td>\n",
       "      <td>0.126338</td>\n",
       "      <td>0.862194</td>\n",
       "      <td>0.988531</td>\n",
       "    </tr>\n",
       "    <tr>\n",
       "      <th>r2</th>\n",
       "      <td>0.696737</td>\n",
       "      <td>-0.334565</td>\n",
       "      <td>-0.997526</td>\n",
       "      <td>-1.332091</td>\n",
       "    </tr>\n",
       "    <tr>\n",
       "      <th>r3</th>\n",
       "      <td>1.598908</td>\n",
       "      <td>3.314075</td>\n",
       "      <td>0.987770</td>\n",
       "      <td>4.301846</td>\n",
       "    </tr>\n",
       "  </tbody>\n",
       "</table>\n",
       "</div>"
      ],
      "text/plain": [
       "          c1        c2        c3       new\n",
       "r1 -1.327479  0.126338  0.862194  0.988531\n",
       "r2  0.696737 -0.334565 -0.997526 -1.332091\n",
       "r3  1.598908  3.314075  0.987770  4.301846"
      ]
     },
     "execution_count": 14,
     "metadata": {},
     "output_type": "execute_result"
    }
   ],
   "source": [
    "df"
   ]
  },
  {
   "cell_type": "code",
   "execution_count": 19,
   "id": "52ac37dd-5ac7-4ac9-bfe6-bbc4ebc67ee1",
   "metadata": {},
   "outputs": [
    {
     "data": {
      "text/html": [
       "<div>\n",
       "<style scoped>\n",
       "    .dataframe tbody tr th:only-of-type {\n",
       "        vertical-align: middle;\n",
       "    }\n",
       "\n",
       "    .dataframe tbody tr th {\n",
       "        vertical-align: top;\n",
       "    }\n",
       "\n",
       "    .dataframe thead th {\n",
       "        text-align: right;\n",
       "    }\n",
       "</style>\n",
       "<table border=\"1\" class=\"dataframe\">\n",
       "  <thead>\n",
       "    <tr style=\"text-align: right;\">\n",
       "      <th></th>\n",
       "      <th>c1</th>\n",
       "      <th>c2</th>\n",
       "      <th>c3</th>\n",
       "    </tr>\n",
       "  </thead>\n",
       "  <tbody>\n",
       "    <tr>\n",
       "      <th>r1</th>\n",
       "      <td>-1.327479</td>\n",
       "      <td>0.126338</td>\n",
       "      <td>0.862194</td>\n",
       "    </tr>\n",
       "    <tr>\n",
       "      <th>r2</th>\n",
       "      <td>0.696737</td>\n",
       "      <td>-0.334565</td>\n",
       "      <td>-0.997526</td>\n",
       "    </tr>\n",
       "    <tr>\n",
       "      <th>r3</th>\n",
       "      <td>1.598908</td>\n",
       "      <td>3.314075</td>\n",
       "      <td>0.987770</td>\n",
       "    </tr>\n",
       "  </tbody>\n",
       "</table>\n",
       "</div>"
      ],
      "text/plain": [
       "          c1        c2        c3\n",
       "r1 -1.327479  0.126338  0.862194\n",
       "r2  0.696737 -0.334565 -0.997526\n",
       "r3  1.598908  3.314075  0.987770"
      ]
     },
     "execution_count": 19,
     "metadata": {},
     "output_type": "execute_result"
    }
   ],
   "source": [
    "df.drop('new',axis=1) # it will temprorly drop the column 'new' to safe data in same way we can drop row as well"
   ]
  },
  {
   "cell_type": "code",
   "execution_count": 22,
   "id": "c0c7ad17-cff9-4bb9-b69e-61c69cb2fa30",
   "metadata": {},
   "outputs": [],
   "source": [
    "df.drop('new',axis=1,inplace=True)            # to drop permanently we will use inplace= true in drop method"
   ]
  },
  {
   "cell_type": "code",
   "execution_count": 23,
   "id": "da6fd2c2-faf9-472e-a60b-478fafad0b21",
   "metadata": {},
   "outputs": [
    {
     "data": {
      "text/html": [
       "<div>\n",
       "<style scoped>\n",
       "    .dataframe tbody tr th:only-of-type {\n",
       "        vertical-align: middle;\n",
       "    }\n",
       "\n",
       "    .dataframe tbody tr th {\n",
       "        vertical-align: top;\n",
       "    }\n",
       "\n",
       "    .dataframe thead th {\n",
       "        text-align: right;\n",
       "    }\n",
       "</style>\n",
       "<table border=\"1\" class=\"dataframe\">\n",
       "  <thead>\n",
       "    <tr style=\"text-align: right;\">\n",
       "      <th></th>\n",
       "      <th>c1</th>\n",
       "      <th>c2</th>\n",
       "      <th>c3</th>\n",
       "    </tr>\n",
       "  </thead>\n",
       "  <tbody>\n",
       "    <tr>\n",
       "      <th>r1</th>\n",
       "      <td>-1.327479</td>\n",
       "      <td>0.126338</td>\n",
       "      <td>0.862194</td>\n",
       "    </tr>\n",
       "    <tr>\n",
       "      <th>r2</th>\n",
       "      <td>0.696737</td>\n",
       "      <td>-0.334565</td>\n",
       "      <td>-0.997526</td>\n",
       "    </tr>\n",
       "    <tr>\n",
       "      <th>r3</th>\n",
       "      <td>1.598908</td>\n",
       "      <td>3.314075</td>\n",
       "      <td>0.987770</td>\n",
       "    </tr>\n",
       "  </tbody>\n",
       "</table>\n",
       "</div>"
      ],
      "text/plain": [
       "          c1        c2        c3\n",
       "r1 -1.327479  0.126338  0.862194\n",
       "r2  0.696737 -0.334565 -0.997526\n",
       "r3  1.598908  3.314075  0.987770"
      ]
     },
     "execution_count": 23,
     "metadata": {},
     "output_type": "execute_result"
    }
   ],
   "source": [
    "df"
   ]
  },
  {
   "cell_type": "code",
   "execution_count": 24,
   "id": "5ff8d1cd-b55c-4c0a-b935-f8ad8b3395fa",
   "metadata": {},
   "outputs": [
    {
     "data": {
      "text/html": [
       "<div>\n",
       "<style scoped>\n",
       "    .dataframe tbody tr th:only-of-type {\n",
       "        vertical-align: middle;\n",
       "    }\n",
       "\n",
       "    .dataframe tbody tr th {\n",
       "        vertical-align: top;\n",
       "    }\n",
       "\n",
       "    .dataframe thead th {\n",
       "        text-align: right;\n",
       "    }\n",
       "</style>\n",
       "<table border=\"1\" class=\"dataframe\">\n",
       "  <thead>\n",
       "    <tr style=\"text-align: right;\">\n",
       "      <th></th>\n",
       "      <th>c1</th>\n",
       "      <th>c2</th>\n",
       "      <th>c3</th>\n",
       "    </tr>\n",
       "  </thead>\n",
       "  <tbody>\n",
       "    <tr>\n",
       "      <th>r1</th>\n",
       "      <td>-1.327479</td>\n",
       "      <td>0.126338</td>\n",
       "      <td>0.862194</td>\n",
       "    </tr>\n",
       "    <tr>\n",
       "      <th>r2</th>\n",
       "      <td>0.696737</td>\n",
       "      <td>-0.334565</td>\n",
       "      <td>-0.997526</td>\n",
       "    </tr>\n",
       "  </tbody>\n",
       "</table>\n",
       "</div>"
      ],
      "text/plain": [
       "          c1        c2        c3\n",
       "r1 -1.327479  0.126338  0.862194\n",
       "r2  0.696737 -0.334565 -0.997526"
      ]
     },
     "execution_count": 24,
     "metadata": {},
     "output_type": "execute_result"
    }
   ],
   "source": [
    "df.drop('r3') # rows refers by default zero axis and cloumn have axis =1 becouse these dataframe work on top of numpy"
   ]
  },
  {
   "cell_type": "code",
   "execution_count": 25,
   "id": "cefeec8e-0d94-4f20-9b09-e65dcf0cd918",
   "metadata": {},
   "outputs": [
    {
     "data": {
      "text/plain": [
       "(3, 3)"
      ]
     },
     "execution_count": 25,
     "metadata": {},
     "output_type": "execute_result"
    }
   ],
   "source": [
    "df.shape"
   ]
  },
  {
   "cell_type": "code",
   "execution_count": 26,
   "id": "fa388174-922e-4059-b12c-c9cea79a9104",
   "metadata": {},
   "outputs": [
    {
     "data": {
      "text/plain": [
       "c1    0.696737\n",
       "c2   -0.334565\n",
       "c3   -0.997526\n",
       "Name: r2, dtype: float64"
      ]
     },
     "execution_count": 26,
     "metadata": {},
     "output_type": "execute_result"
    }
   ],
   "source": [
    "df.loc['r2']  # method to fetch row from dataframe"
   ]
  },
  {
   "cell_type": "code",
   "execution_count": 27,
   "id": "6b17baf1-7fea-4406-8ef1-a360a7d04ab6",
   "metadata": {},
   "outputs": [
    {
     "data": {
      "text/plain": [
       "c1    1.598908\n",
       "c2    3.314075\n",
       "c3    0.987770\n",
       "Name: r3, dtype: float64"
      ]
     },
     "execution_count": 27,
     "metadata": {},
     "output_type": "execute_result"
    }
   ],
   "source": [
    "df.iloc[2]  # another way to get rows using df.iloc() by passing which sequence of row want"
   ]
  },
  {
   "cell_type": "code",
   "execution_count": 29,
   "id": "32b02ca9-f954-4ce4-ab34-906c3dbdf26f",
   "metadata": {},
   "outputs": [],
   "source": [
    "booldf=df>0"
   ]
  },
  {
   "cell_type": "code",
   "execution_count": 30,
   "id": "8eee6164-b6ce-4c80-a44c-6fd2621a59ce",
   "metadata": {},
   "outputs": [
    {
     "data": {
      "text/html": [
       "<div>\n",
       "<style scoped>\n",
       "    .dataframe tbody tr th:only-of-type {\n",
       "        vertical-align: middle;\n",
       "    }\n",
       "\n",
       "    .dataframe tbody tr th {\n",
       "        vertical-align: top;\n",
       "    }\n",
       "\n",
       "    .dataframe thead th {\n",
       "        text-align: right;\n",
       "    }\n",
       "</style>\n",
       "<table border=\"1\" class=\"dataframe\">\n",
       "  <thead>\n",
       "    <tr style=\"text-align: right;\">\n",
       "      <th></th>\n",
       "      <th>c1</th>\n",
       "      <th>c2</th>\n",
       "      <th>c3</th>\n",
       "    </tr>\n",
       "  </thead>\n",
       "  <tbody>\n",
       "    <tr>\n",
       "      <th>r1</th>\n",
       "      <td>False</td>\n",
       "      <td>True</td>\n",
       "      <td>True</td>\n",
       "    </tr>\n",
       "    <tr>\n",
       "      <th>r2</th>\n",
       "      <td>True</td>\n",
       "      <td>False</td>\n",
       "      <td>False</td>\n",
       "    </tr>\n",
       "    <tr>\n",
       "      <th>r3</th>\n",
       "      <td>True</td>\n",
       "      <td>True</td>\n",
       "      <td>True</td>\n",
       "    </tr>\n",
       "  </tbody>\n",
       "</table>\n",
       "</div>"
      ],
      "text/plain": [
       "       c1     c2     c3\n",
       "r1  False   True   True\n",
       "r2   True  False  False\n",
       "r3   True   True   True"
      ]
     },
     "execution_count": 30,
     "metadata": {},
     "output_type": "execute_result"
    }
   ],
   "source": [
    "booldf"
   ]
  },
  {
   "cell_type": "code",
   "execution_count": 31,
   "id": "13006e60-6777-4494-b8b5-e4d532e40092",
   "metadata": {},
   "outputs": [
    {
     "data": {
      "text/html": [
       "<div>\n",
       "<style scoped>\n",
       "    .dataframe tbody tr th:only-of-type {\n",
       "        vertical-align: middle;\n",
       "    }\n",
       "\n",
       "    .dataframe tbody tr th {\n",
       "        vertical-align: top;\n",
       "    }\n",
       "\n",
       "    .dataframe thead th {\n",
       "        text-align: right;\n",
       "    }\n",
       "</style>\n",
       "<table border=\"1\" class=\"dataframe\">\n",
       "  <thead>\n",
       "    <tr style=\"text-align: right;\">\n",
       "      <th></th>\n",
       "      <th>c1</th>\n",
       "      <th>c2</th>\n",
       "      <th>c3</th>\n",
       "    </tr>\n",
       "  </thead>\n",
       "  <tbody>\n",
       "    <tr>\n",
       "      <th>r1</th>\n",
       "      <td>NaN</td>\n",
       "      <td>0.126338</td>\n",
       "      <td>0.862194</td>\n",
       "    </tr>\n",
       "    <tr>\n",
       "      <th>r2</th>\n",
       "      <td>0.696737</td>\n",
       "      <td>NaN</td>\n",
       "      <td>NaN</td>\n",
       "    </tr>\n",
       "    <tr>\n",
       "      <th>r3</th>\n",
       "      <td>1.598908</td>\n",
       "      <td>3.314075</td>\n",
       "      <td>0.987770</td>\n",
       "    </tr>\n",
       "  </tbody>\n",
       "</table>\n",
       "</div>"
      ],
      "text/plain": [
       "          c1        c2        c3\n",
       "r1       NaN  0.126338  0.862194\n",
       "r2  0.696737       NaN       NaN\n",
       "r3  1.598908  3.314075  0.987770"
      ]
     },
     "execution_count": 31,
     "metadata": {},
     "output_type": "execute_result"
    }
   ],
   "source": [
    "df[booldf]"
   ]
  },
  {
   "cell_type": "code",
   "execution_count": 7,
   "id": "6ab2170e-af9a-457a-acde-e20075f53794",
   "metadata": {},
   "outputs": [
    {
     "data": {
      "text/html": [
       "<div>\n",
       "<style scoped>\n",
       "    .dataframe tbody tr th:only-of-type {\n",
       "        vertical-align: middle;\n",
       "    }\n",
       "\n",
       "    .dataframe tbody tr th {\n",
       "        vertical-align: top;\n",
       "    }\n",
       "\n",
       "    .dataframe thead th {\n",
       "        text-align: right;\n",
       "    }\n",
       "</style>\n",
       "<table border=\"1\" class=\"dataframe\">\n",
       "  <thead>\n",
       "    <tr style=\"text-align: right;\">\n",
       "      <th></th>\n",
       "      <th>c1</th>\n",
       "      <th>c2</th>\n",
       "      <th>c3</th>\n",
       "    </tr>\n",
       "  </thead>\n",
       "  <tbody>\n",
       "    <tr>\n",
       "      <th>r1</th>\n",
       "      <td>0.577550</td>\n",
       "      <td>0.972571</td>\n",
       "      <td>-0.431403</td>\n",
       "    </tr>\n",
       "    <tr>\n",
       "      <th>r2</th>\n",
       "      <td>-2.915213</td>\n",
       "      <td>-0.858742</td>\n",
       "      <td>-0.091031</td>\n",
       "    </tr>\n",
       "    <tr>\n",
       "      <th>r3</th>\n",
       "      <td>-0.059481</td>\n",
       "      <td>-2.065269</td>\n",
       "      <td>-2.126921</td>\n",
       "    </tr>\n",
       "  </tbody>\n",
       "</table>\n",
       "</div>"
      ],
      "text/plain": [
       "          c1        c2        c3\n",
       "r1  0.577550  0.972571 -0.431403\n",
       "r2 -2.915213 -0.858742 -0.091031\n",
       "r3 -0.059481 -2.065269 -2.126921"
      ]
     },
     "execution_count": 7,
     "metadata": {},
     "output_type": "execute_result"
    }
   ],
   "source": [
    "df"
   ]
  },
  {
   "cell_type": "code",
   "execution_count": 8,
   "id": "4faf69f6-dda4-45c7-8a06-6d9012d27889",
   "metadata": {},
   "outputs": [],
   "source": [
    "new='ind us aus'.split()  # convert string into list using split function"
   ]
  },
  {
   "cell_type": "code",
   "execution_count": 9,
   "id": "9577d07d-641d-4d96-99e7-e05af7474744",
   "metadata": {},
   "outputs": [
    {
     "data": {
      "text/plain": [
       "['ind', 'us', 'aus']"
      ]
     },
     "execution_count": 9,
     "metadata": {},
     "output_type": "execute_result"
    }
   ],
   "source": [
    "new"
   ]
  },
  {
   "cell_type": "code",
   "execution_count": 10,
   "id": "f3716d62-eba5-48cf-a820-2f1b68e0b481",
   "metadata": {},
   "outputs": [],
   "source": [
    "df['country']=new # adding new column 'country' into df"
   ]
  },
  {
   "cell_type": "code",
   "execution_count": 11,
   "id": "56a95f2b-db1d-430c-94b4-8a2f9a24c5b0",
   "metadata": {},
   "outputs": [
    {
     "data": {
      "text/html": [
       "<div>\n",
       "<style scoped>\n",
       "    .dataframe tbody tr th:only-of-type {\n",
       "        vertical-align: middle;\n",
       "    }\n",
       "\n",
       "    .dataframe tbody tr th {\n",
       "        vertical-align: top;\n",
       "    }\n",
       "\n",
       "    .dataframe thead th {\n",
       "        text-align: right;\n",
       "    }\n",
       "</style>\n",
       "<table border=\"1\" class=\"dataframe\">\n",
       "  <thead>\n",
       "    <tr style=\"text-align: right;\">\n",
       "      <th></th>\n",
       "      <th>c1</th>\n",
       "      <th>c2</th>\n",
       "      <th>c3</th>\n",
       "      <th>country</th>\n",
       "    </tr>\n",
       "  </thead>\n",
       "  <tbody>\n",
       "    <tr>\n",
       "      <th>r1</th>\n",
       "      <td>0.577550</td>\n",
       "      <td>0.972571</td>\n",
       "      <td>-0.431403</td>\n",
       "      <td>ind</td>\n",
       "    </tr>\n",
       "    <tr>\n",
       "      <th>r2</th>\n",
       "      <td>-2.915213</td>\n",
       "      <td>-0.858742</td>\n",
       "      <td>-0.091031</td>\n",
       "      <td>us</td>\n",
       "    </tr>\n",
       "    <tr>\n",
       "      <th>r3</th>\n",
       "      <td>-0.059481</td>\n",
       "      <td>-2.065269</td>\n",
       "      <td>-2.126921</td>\n",
       "      <td>aus</td>\n",
       "    </tr>\n",
       "  </tbody>\n",
       "</table>\n",
       "</div>"
      ],
      "text/plain": [
       "          c1        c2        c3 country\n",
       "r1  0.577550  0.972571 -0.431403     ind\n",
       "r2 -2.915213 -0.858742 -0.091031      us\n",
       "r3 -0.059481 -2.065269 -2.126921     aus"
      ]
     },
     "execution_count": 11,
     "metadata": {},
     "output_type": "execute_result"
    }
   ],
   "source": [
    "df"
   ]
  },
  {
   "cell_type": "code",
   "execution_count": 13,
   "id": "f27f5022-3545-428e-85f0-79833f6c869a",
   "metadata": {},
   "outputs": [
    {
     "data": {
      "text/html": [
       "<div>\n",
       "<style scoped>\n",
       "    .dataframe tbody tr th:only-of-type {\n",
       "        vertical-align: middle;\n",
       "    }\n",
       "\n",
       "    .dataframe tbody tr th {\n",
       "        vertical-align: top;\n",
       "    }\n",
       "\n",
       "    .dataframe thead th {\n",
       "        text-align: right;\n",
       "    }\n",
       "</style>\n",
       "<table border=\"1\" class=\"dataframe\">\n",
       "  <thead>\n",
       "    <tr style=\"text-align: right;\">\n",
       "      <th></th>\n",
       "      <th>c1</th>\n",
       "      <th>c2</th>\n",
       "      <th>c3</th>\n",
       "    </tr>\n",
       "    <tr>\n",
       "      <th>country</th>\n",
       "      <th></th>\n",
       "      <th></th>\n",
       "      <th></th>\n",
       "    </tr>\n",
       "  </thead>\n",
       "  <tbody>\n",
       "    <tr>\n",
       "      <th>ind</th>\n",
       "      <td>0.577550</td>\n",
       "      <td>0.972571</td>\n",
       "      <td>-0.431403</td>\n",
       "    </tr>\n",
       "    <tr>\n",
       "      <th>us</th>\n",
       "      <td>-2.915213</td>\n",
       "      <td>-0.858742</td>\n",
       "      <td>-0.091031</td>\n",
       "    </tr>\n",
       "    <tr>\n",
       "      <th>aus</th>\n",
       "      <td>-0.059481</td>\n",
       "      <td>-2.065269</td>\n",
       "      <td>-2.126921</td>\n",
       "    </tr>\n",
       "  </tbody>\n",
       "</table>\n",
       "</div>"
      ],
      "text/plain": [
       "               c1        c2        c3\n",
       "country                              \n",
       "ind      0.577550  0.972571 -0.431403\n",
       "us      -2.915213 -0.858742 -0.091031\n",
       "aus     -0.059481 -2.065269 -2.126921"
      ]
     },
     "execution_count": 13,
     "metadata": {},
     "output_type": "execute_result"
    }
   ],
   "source": [
    "df.set_index('country')"
   ]
  },
  {
   "cell_type": "code",
   "execution_count": null,
   "id": "10a2a819-5e6e-4782-accd-10abfd44c250",
   "metadata": {},
   "outputs": [],
   "source": []
  }
 ],
 "metadata": {
  "kernelspec": {
   "display_name": "Python 3 (ipykernel)",
   "language": "python",
   "name": "python3"
  },
  "language_info": {
   "codemirror_mode": {
    "name": "ipython",
    "version": 3
   },
   "file_extension": ".py",
   "mimetype": "text/x-python",
   "name": "python",
   "nbconvert_exporter": "python",
   "pygments_lexer": "ipython3",
   "version": "3.11.7"
  }
 },
 "nbformat": 4,
 "nbformat_minor": 5
}
